{
 "cells": [
  {
   "cell_type": "markdown",
   "id": "e4803fb1",
   "metadata": {},
   "source": [
    "### Install pandas"
   ]
  },
  {
   "cell_type": "code",
   "execution_count": null,
   "id": "92857bfa",
   "metadata": {},
   "outputs": [],
   "source": [
    "!pip install pandas"
   ]
  },
  {
   "cell_type": "code",
   "execution_count": null,
   "id": "795eeeb6",
   "metadata": {},
   "outputs": [],
   "source": [
    "!pip install openpyxl"
   ]
  },
  {
   "cell_type": "markdown",
   "id": "b80c6440",
   "metadata": {},
   "source": [
    "### Import pandas"
   ]
  },
  {
   "cell_type": "code",
   "execution_count": 1,
   "id": "56a8e833",
   "metadata": {},
   "outputs": [],
   "source": [
    "import pandas as pd"
   ]
  },
  {
   "cell_type": "code",
   "execution_count": 2,
   "id": "114171db",
   "metadata": {},
   "outputs": [],
   "source": [
    "pd.options.display.float_format = '{:,.0f}'.format"
   ]
  },
  {
   "cell_type": "markdown",
   "id": "15518cf1",
   "metadata": {},
   "source": [
    "### Import data from a file into Pandas DataFrame"
   ]
  },
  {
   "cell_type": "code",
   "execution_count": 3,
   "id": "e65f93f4",
   "metadata": {},
   "outputs": [],
   "source": [
    "df = pd.read_excel(\"./data/advworksdata.xlsx\")"
   ]
  },
  {
   "cell_type": "code",
   "execution_count": 4,
   "id": "e9567ee6",
   "metadata": {},
   "outputs": [
    {
     "data": {
      "text/plain": [
       "pandas.core.frame.DataFrame"
      ]
     },
     "execution_count": 4,
     "metadata": {},
     "output_type": "execute_result"
    }
   ],
   "source": [
    "type(df)"
   ]
  },
  {
   "cell_type": "markdown",
   "id": "63d7d39e",
   "metadata": {},
   "source": [
    "### Examine Data ( Check, Columns, Cells, Headers, Rename Columns)"
   ]
  },
  {
   "cell_type": "code",
   "execution_count": 5,
   "id": "9a75a98d",
   "metadata": {},
   "outputs": [
    {
     "data": {
      "text/plain": [
       "False"
      ]
     },
     "execution_count": 5,
     "metadata": {},
     "output_type": "execute_result"
    }
   ],
   "source": [
    "df.empty"
   ]
  },
  {
   "cell_type": "code",
   "execution_count": 6,
   "id": "b3ec22a9",
   "metadata": {},
   "outputs": [
    {
     "data": {
      "text/html": [
       "<div>\n",
       "<style scoped>\n",
       "    .dataframe tbody tr th:only-of-type {\n",
       "        vertical-align: middle;\n",
       "    }\n",
       "\n",
       "    .dataframe tbody tr th {\n",
       "        vertical-align: top;\n",
       "    }\n",
       "\n",
       "    .dataframe thead th {\n",
       "        text-align: right;\n",
       "    }\n",
       "</style>\n",
       "<table border=\"1\" class=\"dataframe\">\n",
       "  <thead>\n",
       "    <tr style=\"text-align: right;\">\n",
       "      <th></th>\n",
       "      <th>productcategory</th>\n",
       "      <th>productsubcategory</th>\n",
       "      <th>product</th>\n",
       "      <th>saleterritory</th>\n",
       "      <th>Country</th>\n",
       "      <th>City</th>\n",
       "      <th>Sate</th>\n",
       "      <th>Customer</th>\n",
       "      <th>Employee</th>\n",
       "      <th>OrderCount</th>\n",
       "      <th>OrderDate</th>\n",
       "      <th>StandardCost</th>\n",
       "      <th>UnitPrice</th>\n",
       "      <th>UnitPriceDiscount</th>\n",
       "      <th>Discount</th>\n",
       "      <th>ListPrice</th>\n",
       "      <th>SaleswithStandard</th>\n",
       "      <th>NetSales</th>\n",
       "      <th>OrderQuantity</th>\n",
       "      <th>Sales</th>\n",
       "    </tr>\n",
       "  </thead>\n",
       "  <tbody>\n",
       "    <tr>\n",
       "      <th>0</th>\n",
       "      <td>Clothing</td>\n",
       "      <td>Caps</td>\n",
       "      <td>AWC Logo Cap</td>\n",
       "      <td>United Kingdom</td>\n",
       "      <td>United Kingdom</td>\n",
       "      <td>Berks</td>\n",
       "      <td>England</td>\n",
       "      <td>Gary Suess</td>\n",
       "      <td>Amy Alberts</td>\n",
       "      <td>1</td>\n",
       "      <td>2012-06-30</td>\n",
       "      <td>7</td>\n",
       "      <td>5</td>\n",
       "      <td>0</td>\n",
       "      <td>1</td>\n",
       "      <td>9</td>\n",
       "      <td>97</td>\n",
       "      <td>-28</td>\n",
       "      <td>14</td>\n",
       "      <td>69</td>\n",
       "    </tr>\n",
       "    <tr>\n",
       "      <th>1</th>\n",
       "      <td>Accessories</td>\n",
       "      <td>Locks</td>\n",
       "      <td>Cable Lock</td>\n",
       "      <td>United Kingdom</td>\n",
       "      <td>United Kingdom</td>\n",
       "      <td>Berks</td>\n",
       "      <td>England</td>\n",
       "      <td>Gary Suess</td>\n",
       "      <td>Amy Alberts</td>\n",
       "      <td>1</td>\n",
       "      <td>2012-06-30</td>\n",
       "      <td>10</td>\n",
       "      <td>15</td>\n",
       "      <td>0</td>\n",
       "      <td>0</td>\n",
       "      <td>25</td>\n",
       "      <td>62</td>\n",
       "      <td>28</td>\n",
       "      <td>6</td>\n",
       "      <td>90</td>\n",
       "    </tr>\n",
       "    <tr>\n",
       "      <th>2</th>\n",
       "      <td>Clothing</td>\n",
       "      <td>Gloves</td>\n",
       "      <td>Full-Finger Gloves, L</td>\n",
       "      <td>United Kingdom</td>\n",
       "      <td>United Kingdom</td>\n",
       "      <td>Berks</td>\n",
       "      <td>England</td>\n",
       "      <td>Gary Suess</td>\n",
       "      <td>Amy Alberts</td>\n",
       "      <td>1</td>\n",
       "      <td>2012-06-30</td>\n",
       "      <td>16</td>\n",
       "      <td>23</td>\n",
       "      <td>0</td>\n",
       "      <td>0</td>\n",
       "      <td>38</td>\n",
       "      <td>125</td>\n",
       "      <td>57</td>\n",
       "      <td>8</td>\n",
       "      <td>182</td>\n",
       "    </tr>\n",
       "    <tr>\n",
       "      <th>3</th>\n",
       "      <td>Clothing</td>\n",
       "      <td>Gloves</td>\n",
       "      <td>Full-Finger Gloves, L</td>\n",
       "      <td>United Kingdom</td>\n",
       "      <td>United Kingdom</td>\n",
       "      <td>London</td>\n",
       "      <td>England</td>\n",
       "      <td>Linda Martin</td>\n",
       "      <td>Amy Alberts</td>\n",
       "      <td>1</td>\n",
       "      <td>2012-06-30</td>\n",
       "      <td>16</td>\n",
       "      <td>21</td>\n",
       "      <td>0</td>\n",
       "      <td>17</td>\n",
       "      <td>38</td>\n",
       "      <td>251</td>\n",
       "      <td>67</td>\n",
       "      <td>16</td>\n",
       "      <td>318</td>\n",
       "    </tr>\n",
       "    <tr>\n",
       "      <th>4</th>\n",
       "      <td>Clothing</td>\n",
       "      <td>Gloves</td>\n",
       "      <td>Full-Finger Gloves, M</td>\n",
       "      <td>United Kingdom</td>\n",
       "      <td>United Kingdom</td>\n",
       "      <td>Berks</td>\n",
       "      <td>England</td>\n",
       "      <td>Gary Suess</td>\n",
       "      <td>Amy Alberts</td>\n",
       "      <td>1</td>\n",
       "      <td>2012-06-30</td>\n",
       "      <td>16</td>\n",
       "      <td>23</td>\n",
       "      <td>0</td>\n",
       "      <td>0</td>\n",
       "      <td>38</td>\n",
       "      <td>110</td>\n",
       "      <td>50</td>\n",
       "      <td>7</td>\n",
       "      <td>160</td>\n",
       "    </tr>\n",
       "  </tbody>\n",
       "</table>\n",
       "</div>"
      ],
      "text/plain": [
       "  productcategory productsubcategory                product   saleterritory  \\\n",
       "0        Clothing               Caps           AWC Logo Cap  United Kingdom   \n",
       "1     Accessories              Locks             Cable Lock  United Kingdom   \n",
       "2        Clothing             Gloves  Full-Finger Gloves, L  United Kingdom   \n",
       "3        Clothing             Gloves  Full-Finger Gloves, L  United Kingdom   \n",
       "4        Clothing             Gloves  Full-Finger Gloves, M  United Kingdom   \n",
       "\n",
       "          Country    City     Sate      Customer     Employee  OrderCount  \\\n",
       "0  United Kingdom   Berks  England    Gary Suess  Amy Alberts           1   \n",
       "1  United Kingdom   Berks  England    Gary Suess  Amy Alberts           1   \n",
       "2  United Kingdom   Berks  England    Gary Suess  Amy Alberts           1   \n",
       "3  United Kingdom  London  England  Linda Martin  Amy Alberts           1   \n",
       "4  United Kingdom   Berks  England    Gary Suess  Amy Alberts           1   \n",
       "\n",
       "   OrderDate  StandardCost  UnitPrice  UnitPriceDiscount  Discount  ListPrice  \\\n",
       "0 2012-06-30             7          5                  0         1          9   \n",
       "1 2012-06-30            10         15                  0         0         25   \n",
       "2 2012-06-30            16         23                  0         0         38   \n",
       "3 2012-06-30            16         21                  0        17         38   \n",
       "4 2012-06-30            16         23                  0         0         38   \n",
       "\n",
       "   SaleswithStandard  NetSales  OrderQuantity  Sales  \n",
       "0                 97       -28             14     69  \n",
       "1                 62        28              6     90  \n",
       "2                125        57              8    182  \n",
       "3                251        67             16    318  \n",
       "4                110        50              7    160  "
      ]
     },
     "execution_count": 6,
     "metadata": {},
     "output_type": "execute_result"
    }
   ],
   "source": [
    "df.head()\n",
    "# df.head(10) -- first 10 datas"
   ]
  },
  {
   "cell_type": "code",
   "execution_count": 7,
   "id": "6b48a4db",
   "metadata": {},
   "outputs": [
    {
     "data": {
      "text/html": [
       "<div>\n",
       "<style scoped>\n",
       "    .dataframe tbody tr th:only-of-type {\n",
       "        vertical-align: middle;\n",
       "    }\n",
       "\n",
       "    .dataframe tbody tr th {\n",
       "        vertical-align: top;\n",
       "    }\n",
       "\n",
       "    .dataframe thead th {\n",
       "        text-align: right;\n",
       "    }\n",
       "</style>\n",
       "<table border=\"1\" class=\"dataframe\">\n",
       "  <thead>\n",
       "    <tr style=\"text-align: right;\">\n",
       "      <th></th>\n",
       "      <th>productcategory</th>\n",
       "      <th>productsubcategory</th>\n",
       "      <th>product</th>\n",
       "      <th>saleterritory</th>\n",
       "      <th>Country</th>\n",
       "      <th>City</th>\n",
       "      <th>Sate</th>\n",
       "      <th>Customer</th>\n",
       "      <th>Employee</th>\n",
       "      <th>OrderCount</th>\n",
       "      <th>OrderDate</th>\n",
       "      <th>StandardCost</th>\n",
       "      <th>UnitPrice</th>\n",
       "      <th>UnitPriceDiscount</th>\n",
       "      <th>Discount</th>\n",
       "      <th>ListPrice</th>\n",
       "      <th>SaleswithStandard</th>\n",
       "      <th>NetSales</th>\n",
       "      <th>OrderQuantity</th>\n",
       "      <th>Sales</th>\n",
       "    </tr>\n",
       "  </thead>\n",
       "  <tbody>\n",
       "    <tr>\n",
       "      <th>60875</th>\n",
       "      <td>Clothing</td>\n",
       "      <td>Shorts</td>\n",
       "      <td>Women's Mountain Shorts, L</td>\n",
       "      <td>Southeast</td>\n",
       "      <td>United States</td>\n",
       "      <td>Decatur</td>\n",
       "      <td>Georgia</td>\n",
       "      <td>Pamela Cox</td>\n",
       "      <td>Tsvi Reiter</td>\n",
       "      <td>1</td>\n",
       "      <td>2014-05-01</td>\n",
       "      <td>26</td>\n",
       "      <td>42</td>\n",
       "      <td>0</td>\n",
       "      <td>0</td>\n",
       "      <td>70</td>\n",
       "      <td>209</td>\n",
       "      <td>127</td>\n",
       "      <td>8</td>\n",
       "      <td>336</td>\n",
       "    </tr>\n",
       "    <tr>\n",
       "      <th>60876</th>\n",
       "      <td>Clothing</td>\n",
       "      <td>Shorts</td>\n",
       "      <td>Women's Mountain Shorts, L</td>\n",
       "      <td>Southeast</td>\n",
       "      <td>United States</td>\n",
       "      <td>Miami</td>\n",
       "      <td>Florida</td>\n",
       "      <td>Stephanie Conroy</td>\n",
       "      <td>Tsvi Reiter</td>\n",
       "      <td>1</td>\n",
       "      <td>2014-05-01</td>\n",
       "      <td>26</td>\n",
       "      <td>42</td>\n",
       "      <td>0</td>\n",
       "      <td>0</td>\n",
       "      <td>70</td>\n",
       "      <td>157</td>\n",
       "      <td>95</td>\n",
       "      <td>6</td>\n",
       "      <td>252</td>\n",
       "    </tr>\n",
       "    <tr>\n",
       "      <th>60877</th>\n",
       "      <td>Clothing</td>\n",
       "      <td>Shorts</td>\n",
       "      <td>Women's Mountain Shorts, M</td>\n",
       "      <td>Southeast</td>\n",
       "      <td>United States</td>\n",
       "      <td>Decatur</td>\n",
       "      <td>Georgia</td>\n",
       "      <td>Pamela Cox</td>\n",
       "      <td>Tsvi Reiter</td>\n",
       "      <td>1</td>\n",
       "      <td>2014-05-01</td>\n",
       "      <td>26</td>\n",
       "      <td>42</td>\n",
       "      <td>0</td>\n",
       "      <td>0</td>\n",
       "      <td>70</td>\n",
       "      <td>79</td>\n",
       "      <td>47</td>\n",
       "      <td>3</td>\n",
       "      <td>126</td>\n",
       "    </tr>\n",
       "    <tr>\n",
       "      <th>60878</th>\n",
       "      <td>Clothing</td>\n",
       "      <td>Shorts</td>\n",
       "      <td>Women's Mountain Shorts, S</td>\n",
       "      <td>Southeast</td>\n",
       "      <td>United States</td>\n",
       "      <td>Decatur</td>\n",
       "      <td>Georgia</td>\n",
       "      <td>Pamela Cox</td>\n",
       "      <td>Tsvi Reiter</td>\n",
       "      <td>1</td>\n",
       "      <td>2014-05-01</td>\n",
       "      <td>26</td>\n",
       "      <td>42</td>\n",
       "      <td>0</td>\n",
       "      <td>0</td>\n",
       "      <td>70</td>\n",
       "      <td>131</td>\n",
       "      <td>79</td>\n",
       "      <td>5</td>\n",
       "      <td>210</td>\n",
       "    </tr>\n",
       "    <tr>\n",
       "      <th>60879</th>\n",
       "      <td>Clothing</td>\n",
       "      <td>Shorts</td>\n",
       "      <td>Women's Mountain Shorts, S</td>\n",
       "      <td>Southeast</td>\n",
       "      <td>United States</td>\n",
       "      <td>Miami</td>\n",
       "      <td>Florida</td>\n",
       "      <td>Stephanie Conroy</td>\n",
       "      <td>Tsvi Reiter</td>\n",
       "      <td>1</td>\n",
       "      <td>2014-05-01</td>\n",
       "      <td>26</td>\n",
       "      <td>42</td>\n",
       "      <td>0</td>\n",
       "      <td>0</td>\n",
       "      <td>70</td>\n",
       "      <td>79</td>\n",
       "      <td>47</td>\n",
       "      <td>3</td>\n",
       "      <td>126</td>\n",
       "    </tr>\n",
       "  </tbody>\n",
       "</table>\n",
       "</div>"
      ],
      "text/plain": [
       "      productcategory productsubcategory                     product  \\\n",
       "60875        Clothing             Shorts  Women's Mountain Shorts, L   \n",
       "60876        Clothing             Shorts  Women's Mountain Shorts, L   \n",
       "60877        Clothing             Shorts  Women's Mountain Shorts, M   \n",
       "60878        Clothing             Shorts  Women's Mountain Shorts, S   \n",
       "60879        Clothing             Shorts  Women's Mountain Shorts, S   \n",
       "\n",
       "      saleterritory        Country     City     Sate          Customer  \\\n",
       "60875     Southeast  United States  Decatur  Georgia        Pamela Cox   \n",
       "60876     Southeast  United States    Miami  Florida  Stephanie Conroy   \n",
       "60877     Southeast  United States  Decatur  Georgia        Pamela Cox   \n",
       "60878     Southeast  United States  Decatur  Georgia        Pamela Cox   \n",
       "60879     Southeast  United States    Miami  Florida  Stephanie Conroy   \n",
       "\n",
       "          Employee  OrderCount  OrderDate  StandardCost  UnitPrice  \\\n",
       "60875  Tsvi Reiter           1 2014-05-01            26         42   \n",
       "60876  Tsvi Reiter           1 2014-05-01            26         42   \n",
       "60877  Tsvi Reiter           1 2014-05-01            26         42   \n",
       "60878  Tsvi Reiter           1 2014-05-01            26         42   \n",
       "60879  Tsvi Reiter           1 2014-05-01            26         42   \n",
       "\n",
       "       UnitPriceDiscount  Discount  ListPrice  SaleswithStandard  NetSales  \\\n",
       "60875                  0         0         70                209       127   \n",
       "60876                  0         0         70                157        95   \n",
       "60877                  0         0         70                 79        47   \n",
       "60878                  0         0         70                131        79   \n",
       "60879                  0         0         70                 79        47   \n",
       "\n",
       "       OrderQuantity  Sales  \n",
       "60875              8    336  \n",
       "60876              6    252  \n",
       "60877              3    126  \n",
       "60878              5    210  \n",
       "60879              3    126  "
      ]
     },
     "execution_count": 7,
     "metadata": {},
     "output_type": "execute_result"
    }
   ],
   "source": [
    "df.tail()\n",
    "#df.tail(10)"
   ]
  },
  {
   "cell_type": "code",
   "execution_count": 8,
   "id": "b23aebf3",
   "metadata": {},
   "outputs": [
    {
     "data": {
      "text/plain": [
       "(60880, 20)"
      ]
     },
     "execution_count": 8,
     "metadata": {},
     "output_type": "execute_result"
    }
   ],
   "source": [
    "df.shape"
   ]
  },
  {
   "cell_type": "code",
   "execution_count": 9,
   "id": "26fb592e",
   "metadata": {},
   "outputs": [
    {
     "data": {
      "text/plain": [
       "Index(['productcategory', 'productsubcategory', 'product', 'saleterritory',\n",
       "       'Country', 'City', 'Sate', 'Customer', 'Employee', 'OrderCount',\n",
       "       'OrderDate', 'StandardCost', 'UnitPrice', 'UnitPriceDiscount',\n",
       "       'Discount', 'ListPrice', 'SaleswithStandard', 'NetSales',\n",
       "       'OrderQuantity', 'Sales'],\n",
       "      dtype='object')"
      ]
     },
     "execution_count": 9,
     "metadata": {},
     "output_type": "execute_result"
    }
   ],
   "source": [
    "df.columns"
   ]
  },
  {
   "cell_type": "code",
   "execution_count": 10,
   "id": "33c5e835",
   "metadata": {},
   "outputs": [
    {
     "data": {
      "text/html": [
       "<div>\n",
       "<style scoped>\n",
       "    .dataframe tbody tr th:only-of-type {\n",
       "        vertical-align: middle;\n",
       "    }\n",
       "\n",
       "    .dataframe tbody tr th {\n",
       "        vertical-align: top;\n",
       "    }\n",
       "\n",
       "    .dataframe thead th {\n",
       "        text-align: right;\n",
       "    }\n",
       "</style>\n",
       "<table border=\"1\" class=\"dataframe\">\n",
       "  <thead>\n",
       "    <tr style=\"text-align: right;\">\n",
       "      <th></th>\n",
       "      <th>Category</th>\n",
       "      <th>Sub-Category</th>\n",
       "      <th>product</th>\n",
       "      <th>Territory</th>\n",
       "      <th>Country</th>\n",
       "      <th>City</th>\n",
       "      <th>State</th>\n",
       "      <th>Customer</th>\n",
       "      <th>Employee</th>\n",
       "      <th>OrderCount</th>\n",
       "      <th>Date</th>\n",
       "      <th>StandardCost</th>\n",
       "      <th>UnitPrice</th>\n",
       "      <th>UnitPriceDiscount</th>\n",
       "      <th>Discount</th>\n",
       "      <th>ListPrice</th>\n",
       "      <th>SaleswithStandard</th>\n",
       "      <th>NetSales</th>\n",
       "      <th>Quantity</th>\n",
       "      <th>Sales</th>\n",
       "    </tr>\n",
       "  </thead>\n",
       "  <tbody>\n",
       "    <tr>\n",
       "      <th>0</th>\n",
       "      <td>Clothing</td>\n",
       "      <td>Caps</td>\n",
       "      <td>AWC Logo Cap</td>\n",
       "      <td>United Kingdom</td>\n",
       "      <td>United Kingdom</td>\n",
       "      <td>Berks</td>\n",
       "      <td>England</td>\n",
       "      <td>Gary Suess</td>\n",
       "      <td>Amy Alberts</td>\n",
       "      <td>1</td>\n",
       "      <td>2012-06-30</td>\n",
       "      <td>7</td>\n",
       "      <td>5</td>\n",
       "      <td>0</td>\n",
       "      <td>1</td>\n",
       "      <td>9</td>\n",
       "      <td>97</td>\n",
       "      <td>-28</td>\n",
       "      <td>14</td>\n",
       "      <td>69</td>\n",
       "    </tr>\n",
       "    <tr>\n",
       "      <th>1</th>\n",
       "      <td>Accessories</td>\n",
       "      <td>Locks</td>\n",
       "      <td>Cable Lock</td>\n",
       "      <td>United Kingdom</td>\n",
       "      <td>United Kingdom</td>\n",
       "      <td>Berks</td>\n",
       "      <td>England</td>\n",
       "      <td>Gary Suess</td>\n",
       "      <td>Amy Alberts</td>\n",
       "      <td>1</td>\n",
       "      <td>2012-06-30</td>\n",
       "      <td>10</td>\n",
       "      <td>15</td>\n",
       "      <td>0</td>\n",
       "      <td>0</td>\n",
       "      <td>25</td>\n",
       "      <td>62</td>\n",
       "      <td>28</td>\n",
       "      <td>6</td>\n",
       "      <td>90</td>\n",
       "    </tr>\n",
       "    <tr>\n",
       "      <th>2</th>\n",
       "      <td>Clothing</td>\n",
       "      <td>Gloves</td>\n",
       "      <td>Full-Finger Gloves, L</td>\n",
       "      <td>United Kingdom</td>\n",
       "      <td>United Kingdom</td>\n",
       "      <td>Berks</td>\n",
       "      <td>England</td>\n",
       "      <td>Gary Suess</td>\n",
       "      <td>Amy Alberts</td>\n",
       "      <td>1</td>\n",
       "      <td>2012-06-30</td>\n",
       "      <td>16</td>\n",
       "      <td>23</td>\n",
       "      <td>0</td>\n",
       "      <td>0</td>\n",
       "      <td>38</td>\n",
       "      <td>125</td>\n",
       "      <td>57</td>\n",
       "      <td>8</td>\n",
       "      <td>182</td>\n",
       "    </tr>\n",
       "    <tr>\n",
       "      <th>3</th>\n",
       "      <td>Clothing</td>\n",
       "      <td>Gloves</td>\n",
       "      <td>Full-Finger Gloves, L</td>\n",
       "      <td>United Kingdom</td>\n",
       "      <td>United Kingdom</td>\n",
       "      <td>London</td>\n",
       "      <td>England</td>\n",
       "      <td>Linda Martin</td>\n",
       "      <td>Amy Alberts</td>\n",
       "      <td>1</td>\n",
       "      <td>2012-06-30</td>\n",
       "      <td>16</td>\n",
       "      <td>21</td>\n",
       "      <td>0</td>\n",
       "      <td>17</td>\n",
       "      <td>38</td>\n",
       "      <td>251</td>\n",
       "      <td>67</td>\n",
       "      <td>16</td>\n",
       "      <td>318</td>\n",
       "    </tr>\n",
       "    <tr>\n",
       "      <th>4</th>\n",
       "      <td>Clothing</td>\n",
       "      <td>Gloves</td>\n",
       "      <td>Full-Finger Gloves, M</td>\n",
       "      <td>United Kingdom</td>\n",
       "      <td>United Kingdom</td>\n",
       "      <td>Berks</td>\n",
       "      <td>England</td>\n",
       "      <td>Gary Suess</td>\n",
       "      <td>Amy Alberts</td>\n",
       "      <td>1</td>\n",
       "      <td>2012-06-30</td>\n",
       "      <td>16</td>\n",
       "      <td>23</td>\n",
       "      <td>0</td>\n",
       "      <td>0</td>\n",
       "      <td>38</td>\n",
       "      <td>110</td>\n",
       "      <td>50</td>\n",
       "      <td>7</td>\n",
       "      <td>160</td>\n",
       "    </tr>\n",
       "  </tbody>\n",
       "</table>\n",
       "</div>"
      ],
      "text/plain": [
       "      Category Sub-Category                product       Territory  \\\n",
       "0     Clothing         Caps           AWC Logo Cap  United Kingdom   \n",
       "1  Accessories        Locks             Cable Lock  United Kingdom   \n",
       "2     Clothing       Gloves  Full-Finger Gloves, L  United Kingdom   \n",
       "3     Clothing       Gloves  Full-Finger Gloves, L  United Kingdom   \n",
       "4     Clothing       Gloves  Full-Finger Gloves, M  United Kingdom   \n",
       "\n",
       "          Country    City    State      Customer     Employee  OrderCount  \\\n",
       "0  United Kingdom   Berks  England    Gary Suess  Amy Alberts           1   \n",
       "1  United Kingdom   Berks  England    Gary Suess  Amy Alberts           1   \n",
       "2  United Kingdom   Berks  England    Gary Suess  Amy Alberts           1   \n",
       "3  United Kingdom  London  England  Linda Martin  Amy Alberts           1   \n",
       "4  United Kingdom   Berks  England    Gary Suess  Amy Alberts           1   \n",
       "\n",
       "        Date  StandardCost  UnitPrice  UnitPriceDiscount  Discount  ListPrice  \\\n",
       "0 2012-06-30             7          5                  0         1          9   \n",
       "1 2012-06-30            10         15                  0         0         25   \n",
       "2 2012-06-30            16         23                  0         0         38   \n",
       "3 2012-06-30            16         21                  0        17         38   \n",
       "4 2012-06-30            16         23                  0         0         38   \n",
       "\n",
       "   SaleswithStandard  NetSales  Quantity  Sales  \n",
       "0                 97       -28        14     69  \n",
       "1                 62        28         6     90  \n",
       "2                125        57         8    182  \n",
       "3                251        67        16    318  \n",
       "4                110        50         7    160  "
      ]
     },
     "execution_count": 10,
     "metadata": {},
     "output_type": "execute_result"
    }
   ],
   "source": [
    "# Rename columns with rename function\n",
    "df = df.rename(columns={\"productcategory\": \"Category\", \"saleterritory\": \"Territory\", \"productsubcategory\": \"Sub-Category\", \n",
    "                        \"OrderQuantity\": \"Quantity\", \"OrderDate\": \"Date\", \"Sate\": \"State\"})\n",
    "df.head(5)"
   ]
  },
  {
   "cell_type": "markdown",
   "id": "1a64eb54",
   "metadata": {},
   "source": [
    "### How to get columns and rows?"
   ]
  },
  {
   "cell_type": "code",
   "execution_count": 11,
   "id": "d733718d",
   "metadata": {},
   "outputs": [
    {
     "data": {
      "text/plain": [
       "0                      AWC Logo Cap\n",
       "1                        Cable Lock\n",
       "2             Full-Finger Gloves, L\n",
       "3             Full-Finger Gloves, L\n",
       "4             Full-Finger Gloves, M\n",
       "                    ...            \n",
       "60875    Women's Mountain Shorts, L\n",
       "60876    Women's Mountain Shorts, L\n",
       "60877    Women's Mountain Shorts, M\n",
       "60878    Women's Mountain Shorts, S\n",
       "60879    Women's Mountain Shorts, S\n",
       "Name: product, Length: 60880, dtype: object"
      ]
     },
     "execution_count": 11,
     "metadata": {},
     "output_type": "execute_result"
    }
   ],
   "source": [
    "df['product']\n",
    "# df['product'][0:3]"
   ]
  },
  {
   "cell_type": "code",
   "execution_count": 12,
   "id": "ed6962e5",
   "metadata": {},
   "outputs": [
    {
     "data": {
      "text/html": [
       "<div>\n",
       "<style scoped>\n",
       "    .dataframe tbody tr th:only-of-type {\n",
       "        vertical-align: middle;\n",
       "    }\n",
       "\n",
       "    .dataframe tbody tr th {\n",
       "        vertical-align: top;\n",
       "    }\n",
       "\n",
       "    .dataframe thead th {\n",
       "        text-align: right;\n",
       "    }\n",
       "</style>\n",
       "<table border=\"1\" class=\"dataframe\">\n",
       "  <thead>\n",
       "    <tr style=\"text-align: right;\">\n",
       "      <th></th>\n",
       "      <th>Category</th>\n",
       "      <th>product</th>\n",
       "    </tr>\n",
       "  </thead>\n",
       "  <tbody>\n",
       "    <tr>\n",
       "      <th>0</th>\n",
       "      <td>Clothing</td>\n",
       "      <td>AWC Logo Cap</td>\n",
       "    </tr>\n",
       "    <tr>\n",
       "      <th>1</th>\n",
       "      <td>Accessories</td>\n",
       "      <td>Cable Lock</td>\n",
       "    </tr>\n",
       "    <tr>\n",
       "      <th>2</th>\n",
       "      <td>Clothing</td>\n",
       "      <td>Full-Finger Gloves, L</td>\n",
       "    </tr>\n",
       "    <tr>\n",
       "      <th>3</th>\n",
       "      <td>Clothing</td>\n",
       "      <td>Full-Finger Gloves, L</td>\n",
       "    </tr>\n",
       "    <tr>\n",
       "      <th>4</th>\n",
       "      <td>Clothing</td>\n",
       "      <td>Full-Finger Gloves, M</td>\n",
       "    </tr>\n",
       "  </tbody>\n",
       "</table>\n",
       "</div>"
      ],
      "text/plain": [
       "      Category                product\n",
       "0     Clothing           AWC Logo Cap\n",
       "1  Accessories             Cable Lock\n",
       "2     Clothing  Full-Finger Gloves, L\n",
       "3     Clothing  Full-Finger Gloves, L\n",
       "4     Clothing  Full-Finger Gloves, M"
      ]
     },
     "execution_count": 12,
     "metadata": {},
     "output_type": "execute_result"
    }
   ],
   "source": [
    "df[['Category','product']][0:5]"
   ]
  },
  {
   "cell_type": "code",
   "execution_count": 13,
   "id": "ebd80f25",
   "metadata": {},
   "outputs": [
    {
     "data": {
      "text/html": [
       "<div>\n",
       "<style scoped>\n",
       "    .dataframe tbody tr th:only-of-type {\n",
       "        vertical-align: middle;\n",
       "    }\n",
       "\n",
       "    .dataframe tbody tr th {\n",
       "        vertical-align: top;\n",
       "    }\n",
       "\n",
       "    .dataframe thead th {\n",
       "        text-align: right;\n",
       "    }\n",
       "</style>\n",
       "<table border=\"1\" class=\"dataframe\">\n",
       "  <thead>\n",
       "    <tr style=\"text-align: right;\">\n",
       "      <th></th>\n",
       "      <th>Category</th>\n",
       "      <th>Sub-Category</th>\n",
       "      <th>product</th>\n",
       "      <th>Date</th>\n",
       "      <th>ListPrice</th>\n",
       "      <th>Quantity</th>\n",
       "      <th>Sales</th>\n",
       "    </tr>\n",
       "  </thead>\n",
       "  <tbody>\n",
       "    <tr>\n",
       "      <th>0</th>\n",
       "      <td>Clothing</td>\n",
       "      <td>Caps</td>\n",
       "      <td>AWC Logo Cap</td>\n",
       "      <td>2012-06-30</td>\n",
       "      <td>9</td>\n",
       "      <td>14</td>\n",
       "      <td>69</td>\n",
       "    </tr>\n",
       "    <tr>\n",
       "      <th>1</th>\n",
       "      <td>Accessories</td>\n",
       "      <td>Locks</td>\n",
       "      <td>Cable Lock</td>\n",
       "      <td>2012-06-30</td>\n",
       "      <td>25</td>\n",
       "      <td>6</td>\n",
       "      <td>90</td>\n",
       "    </tr>\n",
       "    <tr>\n",
       "      <th>2</th>\n",
       "      <td>Clothing</td>\n",
       "      <td>Gloves</td>\n",
       "      <td>Full-Finger Gloves, L</td>\n",
       "      <td>2012-06-30</td>\n",
       "      <td>38</td>\n",
       "      <td>8</td>\n",
       "      <td>182</td>\n",
       "    </tr>\n",
       "    <tr>\n",
       "      <th>3</th>\n",
       "      <td>Clothing</td>\n",
       "      <td>Gloves</td>\n",
       "      <td>Full-Finger Gloves, L</td>\n",
       "      <td>2012-06-30</td>\n",
       "      <td>38</td>\n",
       "      <td>16</td>\n",
       "      <td>318</td>\n",
       "    </tr>\n",
       "    <tr>\n",
       "      <th>4</th>\n",
       "      <td>Clothing</td>\n",
       "      <td>Gloves</td>\n",
       "      <td>Full-Finger Gloves, M</td>\n",
       "      <td>2012-06-30</td>\n",
       "      <td>38</td>\n",
       "      <td>7</td>\n",
       "      <td>160</td>\n",
       "    </tr>\n",
       "    <tr>\n",
       "      <th>...</th>\n",
       "      <td>...</td>\n",
       "      <td>...</td>\n",
       "      <td>...</td>\n",
       "      <td>...</td>\n",
       "      <td>...</td>\n",
       "      <td>...</td>\n",
       "      <td>...</td>\n",
       "    </tr>\n",
       "    <tr>\n",
       "      <th>60875</th>\n",
       "      <td>Clothing</td>\n",
       "      <td>Shorts</td>\n",
       "      <td>Women's Mountain Shorts, L</td>\n",
       "      <td>2014-05-01</td>\n",
       "      <td>70</td>\n",
       "      <td>8</td>\n",
       "      <td>336</td>\n",
       "    </tr>\n",
       "    <tr>\n",
       "      <th>60876</th>\n",
       "      <td>Clothing</td>\n",
       "      <td>Shorts</td>\n",
       "      <td>Women's Mountain Shorts, L</td>\n",
       "      <td>2014-05-01</td>\n",
       "      <td>70</td>\n",
       "      <td>6</td>\n",
       "      <td>252</td>\n",
       "    </tr>\n",
       "    <tr>\n",
       "      <th>60877</th>\n",
       "      <td>Clothing</td>\n",
       "      <td>Shorts</td>\n",
       "      <td>Women's Mountain Shorts, M</td>\n",
       "      <td>2014-05-01</td>\n",
       "      <td>70</td>\n",
       "      <td>3</td>\n",
       "      <td>126</td>\n",
       "    </tr>\n",
       "    <tr>\n",
       "      <th>60878</th>\n",
       "      <td>Clothing</td>\n",
       "      <td>Shorts</td>\n",
       "      <td>Women's Mountain Shorts, S</td>\n",
       "      <td>2014-05-01</td>\n",
       "      <td>70</td>\n",
       "      <td>5</td>\n",
       "      <td>210</td>\n",
       "    </tr>\n",
       "    <tr>\n",
       "      <th>60879</th>\n",
       "      <td>Clothing</td>\n",
       "      <td>Shorts</td>\n",
       "      <td>Women's Mountain Shorts, S</td>\n",
       "      <td>2014-05-01</td>\n",
       "      <td>70</td>\n",
       "      <td>3</td>\n",
       "      <td>126</td>\n",
       "    </tr>\n",
       "  </tbody>\n",
       "</table>\n",
       "<p>60880 rows × 7 columns</p>\n",
       "</div>"
      ],
      "text/plain": [
       "          Category Sub-Category                     product       Date  \\\n",
       "0         Clothing         Caps                AWC Logo Cap 2012-06-30   \n",
       "1      Accessories        Locks                  Cable Lock 2012-06-30   \n",
       "2         Clothing       Gloves       Full-Finger Gloves, L 2012-06-30   \n",
       "3         Clothing       Gloves       Full-Finger Gloves, L 2012-06-30   \n",
       "4         Clothing       Gloves       Full-Finger Gloves, M 2012-06-30   \n",
       "...            ...          ...                         ...        ...   \n",
       "60875     Clothing       Shorts  Women's Mountain Shorts, L 2014-05-01   \n",
       "60876     Clothing       Shorts  Women's Mountain Shorts, L 2014-05-01   \n",
       "60877     Clothing       Shorts  Women's Mountain Shorts, M 2014-05-01   \n",
       "60878     Clothing       Shorts  Women's Mountain Shorts, S 2014-05-01   \n",
       "60879     Clothing       Shorts  Women's Mountain Shorts, S 2014-05-01   \n",
       "\n",
       "       ListPrice  Quantity  Sales  \n",
       "0              9        14     69  \n",
       "1             25         6     90  \n",
       "2             38         8    182  \n",
       "3             38        16    318  \n",
       "4             38         7    160  \n",
       "...          ...       ...    ...  \n",
       "60875         70         8    336  \n",
       "60876         70         6    252  \n",
       "60877         70         3    126  \n",
       "60878         70         5    210  \n",
       "60879         70         3    126  \n",
       "\n",
       "[60880 rows x 7 columns]"
      ]
     },
     "execution_count": 13,
     "metadata": {},
     "output_type": "execute_result"
    }
   ],
   "source": [
    "# limit columns from dataframe\n",
    "df = df[['Category','Sub-Category', 'product','Date', 'ListPrice','Quantity','Sales']]\n",
    "df"
   ]
  },
  {
   "cell_type": "code",
   "execution_count": 14,
   "id": "7abb4229",
   "metadata": {},
   "outputs": [
    {
     "data": {
      "text/plain": [
       "Category                object\n",
       "Sub-Category            object\n",
       "product                 object\n",
       "Date            datetime64[ns]\n",
       "ListPrice              float64\n",
       "Quantity                 int64\n",
       "Sales                  float64\n",
       "dtype: object"
      ]
     },
     "execution_count": 14,
     "metadata": {},
     "output_type": "execute_result"
    }
   ],
   "source": [
    "df.dtypes"
   ]
  },
  {
   "cell_type": "code",
   "execution_count": 15,
   "id": "7c0187be",
   "metadata": {},
   "outputs": [],
   "source": [
    "df['Date'] = pd.to_datetime(df['Date'])"
   ]
  },
  {
   "cell_type": "code",
   "execution_count": 16,
   "id": "83ed4613",
   "metadata": {},
   "outputs": [
    {
     "ename": "IntCastingNaNError",
     "evalue": "Cannot convert non-finite values (NA or inf) to integer",
     "output_type": "error",
     "traceback": [
      "\u001b[0;31m---------------------------------------------------------------------------\u001b[0m",
      "\u001b[0;31mIntCastingNaNError\u001b[0m                        Traceback (most recent call last)",
      "Input \u001b[0;32mIn [16]\u001b[0m, in \u001b[0;36m<cell line: 1>\u001b[0;34m()\u001b[0m\n\u001b[0;32m----> 1\u001b[0m df[\u001b[38;5;124m'\u001b[39m\u001b[38;5;124mListPrice\u001b[39m\u001b[38;5;124m'\u001b[39m] \u001b[38;5;241m=\u001b[39m \u001b[43mdf\u001b[49m\u001b[43m[\u001b[49m\u001b[38;5;124;43m'\u001b[39;49m\u001b[38;5;124;43mListPrice\u001b[39;49m\u001b[38;5;124;43m'\u001b[39;49m\u001b[43m]\u001b[49m\u001b[38;5;241;43m.\u001b[39;49m\u001b[43mastype\u001b[49m\u001b[43m(\u001b[49m\u001b[38;5;28;43mint\u001b[39;49m\u001b[43m)\u001b[49m\n",
      "File \u001b[0;32m~/.local/lib/python3.10/site-packages/pandas/core/generic.py:5912\u001b[0m, in \u001b[0;36mNDFrame.astype\u001b[0;34m(self, dtype, copy, errors)\u001b[0m\n\u001b[1;32m   5905\u001b[0m     results \u001b[38;5;241m=\u001b[39m [\n\u001b[1;32m   5906\u001b[0m         \u001b[38;5;28mself\u001b[39m\u001b[38;5;241m.\u001b[39miloc[:, i]\u001b[38;5;241m.\u001b[39mastype(dtype, copy\u001b[38;5;241m=\u001b[39mcopy)\n\u001b[1;32m   5907\u001b[0m         \u001b[38;5;28;01mfor\u001b[39;00m i \u001b[38;5;129;01min\u001b[39;00m \u001b[38;5;28mrange\u001b[39m(\u001b[38;5;28mlen\u001b[39m(\u001b[38;5;28mself\u001b[39m\u001b[38;5;241m.\u001b[39mcolumns))\n\u001b[1;32m   5908\u001b[0m     ]\n\u001b[1;32m   5910\u001b[0m \u001b[38;5;28;01melse\u001b[39;00m:\n\u001b[1;32m   5911\u001b[0m     \u001b[38;5;66;03m# else, only a single dtype is given\u001b[39;00m\n\u001b[0;32m-> 5912\u001b[0m     new_data \u001b[38;5;241m=\u001b[39m \u001b[38;5;28;43mself\u001b[39;49m\u001b[38;5;241;43m.\u001b[39;49m\u001b[43m_mgr\u001b[49m\u001b[38;5;241;43m.\u001b[39;49m\u001b[43mastype\u001b[49m\u001b[43m(\u001b[49m\u001b[43mdtype\u001b[49m\u001b[38;5;241;43m=\u001b[39;49m\u001b[43mdtype\u001b[49m\u001b[43m,\u001b[49m\u001b[43m \u001b[49m\u001b[43mcopy\u001b[49m\u001b[38;5;241;43m=\u001b[39;49m\u001b[43mcopy\u001b[49m\u001b[43m,\u001b[49m\u001b[43m \u001b[49m\u001b[43merrors\u001b[49m\u001b[38;5;241;43m=\u001b[39;49m\u001b[43merrors\u001b[49m\u001b[43m)\u001b[49m\n\u001b[1;32m   5913\u001b[0m     \u001b[38;5;28;01mreturn\u001b[39;00m \u001b[38;5;28mself\u001b[39m\u001b[38;5;241m.\u001b[39m_constructor(new_data)\u001b[38;5;241m.\u001b[39m__finalize__(\u001b[38;5;28mself\u001b[39m, method\u001b[38;5;241m=\u001b[39m\u001b[38;5;124m\"\u001b[39m\u001b[38;5;124mastype\u001b[39m\u001b[38;5;124m\"\u001b[39m)\n\u001b[1;32m   5915\u001b[0m \u001b[38;5;66;03m# GH 33113: handle empty frame or series\u001b[39;00m\n",
      "File \u001b[0;32m~/.local/lib/python3.10/site-packages/pandas/core/internals/managers.py:419\u001b[0m, in \u001b[0;36mBaseBlockManager.astype\u001b[0;34m(self, dtype, copy, errors)\u001b[0m\n\u001b[1;32m    418\u001b[0m \u001b[38;5;28;01mdef\u001b[39;00m \u001b[38;5;21mastype\u001b[39m(\u001b[38;5;28mself\u001b[39m: T, dtype, copy: \u001b[38;5;28mbool\u001b[39m \u001b[38;5;241m=\u001b[39m \u001b[38;5;28;01mFalse\u001b[39;00m, errors: \u001b[38;5;28mstr\u001b[39m \u001b[38;5;241m=\u001b[39m \u001b[38;5;124m\"\u001b[39m\u001b[38;5;124mraise\u001b[39m\u001b[38;5;124m\"\u001b[39m) \u001b[38;5;241m-\u001b[39m\u001b[38;5;241m>\u001b[39m T:\n\u001b[0;32m--> 419\u001b[0m     \u001b[38;5;28;01mreturn\u001b[39;00m \u001b[38;5;28;43mself\u001b[39;49m\u001b[38;5;241;43m.\u001b[39;49m\u001b[43mapply\u001b[49m\u001b[43m(\u001b[49m\u001b[38;5;124;43m\"\u001b[39;49m\u001b[38;5;124;43mastype\u001b[39;49m\u001b[38;5;124;43m\"\u001b[39;49m\u001b[43m,\u001b[49m\u001b[43m \u001b[49m\u001b[43mdtype\u001b[49m\u001b[38;5;241;43m=\u001b[39;49m\u001b[43mdtype\u001b[49m\u001b[43m,\u001b[49m\u001b[43m \u001b[49m\u001b[43mcopy\u001b[49m\u001b[38;5;241;43m=\u001b[39;49m\u001b[43mcopy\u001b[49m\u001b[43m,\u001b[49m\u001b[43m \u001b[49m\u001b[43merrors\u001b[49m\u001b[38;5;241;43m=\u001b[39;49m\u001b[43merrors\u001b[49m\u001b[43m)\u001b[49m\n",
      "File \u001b[0;32m~/.local/lib/python3.10/site-packages/pandas/core/internals/managers.py:304\u001b[0m, in \u001b[0;36mBaseBlockManager.apply\u001b[0;34m(self, f, align_keys, ignore_failures, **kwargs)\u001b[0m\n\u001b[1;32m    302\u001b[0m         applied \u001b[38;5;241m=\u001b[39m b\u001b[38;5;241m.\u001b[39mapply(f, \u001b[38;5;241m*\u001b[39m\u001b[38;5;241m*\u001b[39mkwargs)\n\u001b[1;32m    303\u001b[0m     \u001b[38;5;28;01melse\u001b[39;00m:\n\u001b[0;32m--> 304\u001b[0m         applied \u001b[38;5;241m=\u001b[39m \u001b[38;5;28;43mgetattr\u001b[39;49m\u001b[43m(\u001b[49m\u001b[43mb\u001b[49m\u001b[43m,\u001b[49m\u001b[43m \u001b[49m\u001b[43mf\u001b[49m\u001b[43m)\u001b[49m\u001b[43m(\u001b[49m\u001b[38;5;241;43m*\u001b[39;49m\u001b[38;5;241;43m*\u001b[39;49m\u001b[43mkwargs\u001b[49m\u001b[43m)\u001b[49m\n\u001b[1;32m    305\u001b[0m \u001b[38;5;28;01mexcept\u001b[39;00m (\u001b[38;5;167;01mTypeError\u001b[39;00m, \u001b[38;5;167;01mNotImplementedError\u001b[39;00m):\n\u001b[1;32m    306\u001b[0m     \u001b[38;5;28;01mif\u001b[39;00m \u001b[38;5;129;01mnot\u001b[39;00m ignore_failures:\n",
      "File \u001b[0;32m~/.local/lib/python3.10/site-packages/pandas/core/internals/blocks.py:580\u001b[0m, in \u001b[0;36mBlock.astype\u001b[0;34m(self, dtype, copy, errors)\u001b[0m\n\u001b[1;32m    562\u001b[0m \u001b[38;5;124;03m\"\"\"\u001b[39;00m\n\u001b[1;32m    563\u001b[0m \u001b[38;5;124;03mCoerce to the new dtype.\u001b[39;00m\n\u001b[1;32m    564\u001b[0m \n\u001b[0;32m   (...)\u001b[0m\n\u001b[1;32m    576\u001b[0m \u001b[38;5;124;03mBlock\u001b[39;00m\n\u001b[1;32m    577\u001b[0m \u001b[38;5;124;03m\"\"\"\u001b[39;00m\n\u001b[1;32m    578\u001b[0m values \u001b[38;5;241m=\u001b[39m \u001b[38;5;28mself\u001b[39m\u001b[38;5;241m.\u001b[39mvalues\n\u001b[0;32m--> 580\u001b[0m new_values \u001b[38;5;241m=\u001b[39m \u001b[43mastype_array_safe\u001b[49m\u001b[43m(\u001b[49m\u001b[43mvalues\u001b[49m\u001b[43m,\u001b[49m\u001b[43m \u001b[49m\u001b[43mdtype\u001b[49m\u001b[43m,\u001b[49m\u001b[43m \u001b[49m\u001b[43mcopy\u001b[49m\u001b[38;5;241;43m=\u001b[39;49m\u001b[43mcopy\u001b[49m\u001b[43m,\u001b[49m\u001b[43m \u001b[49m\u001b[43merrors\u001b[49m\u001b[38;5;241;43m=\u001b[39;49m\u001b[43merrors\u001b[49m\u001b[43m)\u001b[49m\n\u001b[1;32m    582\u001b[0m new_values \u001b[38;5;241m=\u001b[39m maybe_coerce_values(new_values)\n\u001b[1;32m    583\u001b[0m newb \u001b[38;5;241m=\u001b[39m \u001b[38;5;28mself\u001b[39m\u001b[38;5;241m.\u001b[39mmake_block(new_values)\n",
      "File \u001b[0;32m~/.local/lib/python3.10/site-packages/pandas/core/dtypes/cast.py:1292\u001b[0m, in \u001b[0;36mastype_array_safe\u001b[0;34m(values, dtype, copy, errors)\u001b[0m\n\u001b[1;32m   1289\u001b[0m     dtype \u001b[38;5;241m=\u001b[39m dtype\u001b[38;5;241m.\u001b[39mnumpy_dtype\n\u001b[1;32m   1291\u001b[0m \u001b[38;5;28;01mtry\u001b[39;00m:\n\u001b[0;32m-> 1292\u001b[0m     new_values \u001b[38;5;241m=\u001b[39m \u001b[43mastype_array\u001b[49m\u001b[43m(\u001b[49m\u001b[43mvalues\u001b[49m\u001b[43m,\u001b[49m\u001b[43m \u001b[49m\u001b[43mdtype\u001b[49m\u001b[43m,\u001b[49m\u001b[43m \u001b[49m\u001b[43mcopy\u001b[49m\u001b[38;5;241;43m=\u001b[39;49m\u001b[43mcopy\u001b[49m\u001b[43m)\u001b[49m\n\u001b[1;32m   1293\u001b[0m \u001b[38;5;28;01mexcept\u001b[39;00m (\u001b[38;5;167;01mValueError\u001b[39;00m, \u001b[38;5;167;01mTypeError\u001b[39;00m):\n\u001b[1;32m   1294\u001b[0m     \u001b[38;5;66;03m# e.g. astype_nansafe can fail on object-dtype of strings\u001b[39;00m\n\u001b[1;32m   1295\u001b[0m     \u001b[38;5;66;03m#  trying to convert to float\u001b[39;00m\n\u001b[1;32m   1296\u001b[0m     \u001b[38;5;28;01mif\u001b[39;00m errors \u001b[38;5;241m==\u001b[39m \u001b[38;5;124m\"\u001b[39m\u001b[38;5;124mignore\u001b[39m\u001b[38;5;124m\"\u001b[39m:\n",
      "File \u001b[0;32m~/.local/lib/python3.10/site-packages/pandas/core/dtypes/cast.py:1237\u001b[0m, in \u001b[0;36mastype_array\u001b[0;34m(values, dtype, copy)\u001b[0m\n\u001b[1;32m   1234\u001b[0m     values \u001b[38;5;241m=\u001b[39m values\u001b[38;5;241m.\u001b[39mastype(dtype, copy\u001b[38;5;241m=\u001b[39mcopy)\n\u001b[1;32m   1236\u001b[0m \u001b[38;5;28;01melse\u001b[39;00m:\n\u001b[0;32m-> 1237\u001b[0m     values \u001b[38;5;241m=\u001b[39m \u001b[43mastype_nansafe\u001b[49m\u001b[43m(\u001b[49m\u001b[43mvalues\u001b[49m\u001b[43m,\u001b[49m\u001b[43m \u001b[49m\u001b[43mdtype\u001b[49m\u001b[43m,\u001b[49m\u001b[43m \u001b[49m\u001b[43mcopy\u001b[49m\u001b[38;5;241;43m=\u001b[39;49m\u001b[43mcopy\u001b[49m\u001b[43m)\u001b[49m\n\u001b[1;32m   1239\u001b[0m \u001b[38;5;66;03m# in pandas we don't store numpy str dtypes, so convert to object\u001b[39;00m\n\u001b[1;32m   1240\u001b[0m \u001b[38;5;28;01mif\u001b[39;00m \u001b[38;5;28misinstance\u001b[39m(dtype, np\u001b[38;5;241m.\u001b[39mdtype) \u001b[38;5;129;01mand\u001b[39;00m \u001b[38;5;28missubclass\u001b[39m(values\u001b[38;5;241m.\u001b[39mdtype\u001b[38;5;241m.\u001b[39mtype, \u001b[38;5;28mstr\u001b[39m):\n",
      "File \u001b[0;32m~/.local/lib/python3.10/site-packages/pandas/core/dtypes/cast.py:1148\u001b[0m, in \u001b[0;36mastype_nansafe\u001b[0;34m(arr, dtype, copy, skipna)\u001b[0m\n\u001b[1;32m   1145\u001b[0m     \u001b[38;5;28;01mraise\u001b[39;00m \u001b[38;5;167;01mTypeError\u001b[39;00m(\u001b[38;5;124mf\u001b[39m\u001b[38;5;124m\"\u001b[39m\u001b[38;5;124mcannot astype a timedelta from [\u001b[39m\u001b[38;5;132;01m{\u001b[39;00marr\u001b[38;5;241m.\u001b[39mdtype\u001b[38;5;132;01m}\u001b[39;00m\u001b[38;5;124m] to [\u001b[39m\u001b[38;5;132;01m{\u001b[39;00mdtype\u001b[38;5;132;01m}\u001b[39;00m\u001b[38;5;124m]\u001b[39m\u001b[38;5;124m\"\u001b[39m)\n\u001b[1;32m   1147\u001b[0m \u001b[38;5;28;01melif\u001b[39;00m np\u001b[38;5;241m.\u001b[39missubdtype(arr\u001b[38;5;241m.\u001b[39mdtype, np\u001b[38;5;241m.\u001b[39mfloating) \u001b[38;5;129;01mand\u001b[39;00m np\u001b[38;5;241m.\u001b[39missubdtype(dtype, np\u001b[38;5;241m.\u001b[39minteger):\n\u001b[0;32m-> 1148\u001b[0m     \u001b[38;5;28;01mreturn\u001b[39;00m \u001b[43mastype_float_to_int_nansafe\u001b[49m\u001b[43m(\u001b[49m\u001b[43marr\u001b[49m\u001b[43m,\u001b[49m\u001b[43m \u001b[49m\u001b[43mdtype\u001b[49m\u001b[43m,\u001b[49m\u001b[43m \u001b[49m\u001b[43mcopy\u001b[49m\u001b[43m)\u001b[49m\n\u001b[1;32m   1150\u001b[0m \u001b[38;5;28;01melif\u001b[39;00m is_object_dtype(arr\u001b[38;5;241m.\u001b[39mdtype):\n\u001b[1;32m   1151\u001b[0m \n\u001b[1;32m   1152\u001b[0m     \u001b[38;5;66;03m# work around NumPy brokenness, #1987\u001b[39;00m\n\u001b[1;32m   1153\u001b[0m     \u001b[38;5;28;01mif\u001b[39;00m np\u001b[38;5;241m.\u001b[39missubdtype(dtype\u001b[38;5;241m.\u001b[39mtype, np\u001b[38;5;241m.\u001b[39minteger):\n",
      "File \u001b[0;32m~/.local/lib/python3.10/site-packages/pandas/core/dtypes/cast.py:1193\u001b[0m, in \u001b[0;36mastype_float_to_int_nansafe\u001b[0;34m(values, dtype, copy)\u001b[0m\n\u001b[1;32m   1189\u001b[0m \u001b[38;5;124;03m\"\"\"\u001b[39;00m\n\u001b[1;32m   1190\u001b[0m \u001b[38;5;124;03mastype with a check preventing converting NaN to an meaningless integer value.\u001b[39;00m\n\u001b[1;32m   1191\u001b[0m \u001b[38;5;124;03m\"\"\"\u001b[39;00m\n\u001b[1;32m   1192\u001b[0m \u001b[38;5;28;01mif\u001b[39;00m \u001b[38;5;129;01mnot\u001b[39;00m np\u001b[38;5;241m.\u001b[39misfinite(values)\u001b[38;5;241m.\u001b[39mall():\n\u001b[0;32m-> 1193\u001b[0m     \u001b[38;5;28;01mraise\u001b[39;00m IntCastingNaNError(\n\u001b[1;32m   1194\u001b[0m         \u001b[38;5;124m\"\u001b[39m\u001b[38;5;124mCannot convert non-finite values (NA or inf) to integer\u001b[39m\u001b[38;5;124m\"\u001b[39m\n\u001b[1;32m   1195\u001b[0m     )\n\u001b[1;32m   1196\u001b[0m \u001b[38;5;28;01mreturn\u001b[39;00m values\u001b[38;5;241m.\u001b[39mastype(dtype, copy\u001b[38;5;241m=\u001b[39mcopy)\n",
      "\u001b[0;31mIntCastingNaNError\u001b[0m: Cannot convert non-finite values (NA or inf) to integer"
     ]
    }
   ],
   "source": [
    "df['ListPrice'] = df['ListPrice'].astype(int)"
   ]
  },
  {
   "cell_type": "markdown",
   "id": "e35041f9",
   "metadata": {},
   "source": [
    "### Handling missing values and data conversion"
   ]
  },
  {
   "cell_type": "code",
   "execution_count": 17,
   "id": "cadfb60a",
   "metadata": {},
   "outputs": [
    {
     "data": {
      "text/plain": [
       "Category         True\n",
       "Sub-Category     True\n",
       "product          True\n",
       "Date            False\n",
       "ListPrice        True\n",
       "Quantity        False\n",
       "Sales           False\n",
       "dtype: bool"
      ]
     },
     "execution_count": 17,
     "metadata": {},
     "output_type": "execute_result"
    }
   ],
   "source": [
    "# Check for NULL values \n",
    "df.isnull().any()"
   ]
  },
  {
   "cell_type": "code",
   "execution_count": 18,
   "id": "30303417",
   "metadata": {},
   "outputs": [
    {
     "data": {
      "text/plain": [
       "Category        39\n",
       "Sub-Category    39\n",
       "product         39\n",
       "Date             0\n",
       "ListPrice       39\n",
       "Quantity         0\n",
       "Sales            0\n",
       "dtype: int64"
      ]
     },
     "execution_count": 18,
     "metadata": {},
     "output_type": "execute_result"
    }
   ],
   "source": [
    "# Get total of missing values \n",
    "df.isnull().sum()"
   ]
  },
  {
   "cell_type": "code",
   "execution_count": 19,
   "id": "66a63662",
   "metadata": {},
   "outputs": [
    {
     "data": {
      "text/plain": [
       "Category         0\n",
       "Sub-Category    39\n",
       "product         39\n",
       "Date             0\n",
       "ListPrice       39\n",
       "Quantity         0\n",
       "Sales            0\n",
       "dtype: int64"
      ]
     },
     "execution_count": 19,
     "metadata": {},
     "output_type": "execute_result"
    }
   ],
   "source": [
    "# filling null values \n",
    "df['Category'].fillna(\"Unknown\",inplace = True)\n",
    "df.isnull().sum()"
   ]
  },
  {
   "cell_type": "code",
   "execution_count": 20,
   "id": "bab3909f",
   "metadata": {},
   "outputs": [
    {
     "data": {
      "text/plain": [
       "Category         0\n",
       "Sub-Category     0\n",
       "product         39\n",
       "Date             0\n",
       "ListPrice       39\n",
       "Quantity         0\n",
       "Sales            0\n",
       "dtype: int64"
      ]
     },
     "execution_count": 20,
     "metadata": {},
     "output_type": "execute_result"
    }
   ],
   "source": [
    "# filling null values \n",
    "df['Sub-Category'].fillna(\"Unknown\",inplace = True)\n",
    "df.isnull().sum()"
   ]
  },
  {
   "cell_type": "code",
   "execution_count": 21,
   "id": "ce3d945e",
   "metadata": {},
   "outputs": [
    {
     "data": {
      "text/plain": [
       "Category         0\n",
       "Sub-Category     0\n",
       "product         39\n",
       "Date             0\n",
       "ListPrice        0\n",
       "Quantity         0\n",
       "Sales            0\n",
       "dtype: int64"
      ]
     },
     "execution_count": 21,
     "metadata": {},
     "output_type": "execute_result"
    }
   ],
   "source": [
    "# filling null values \n",
    "df['ListPrice'].fillna(0,inplace = True)\n",
    "df.isnull().sum()"
   ]
  },
  {
   "cell_type": "code",
   "execution_count": 22,
   "id": "ecd3ff18",
   "metadata": {},
   "outputs": [
    {
     "data": {
      "text/plain": [
       "Category                object\n",
       "Sub-Category            object\n",
       "product                 object\n",
       "Date            datetime64[ns]\n",
       "ListPrice                int64\n",
       "Quantity                 int64\n",
       "Sales                  float64\n",
       "dtype: object"
      ]
     },
     "execution_count": 22,
     "metadata": {},
     "output_type": "execute_result"
    }
   ],
   "source": [
    "df['ListPrice'] = df['ListPrice'].astype(int)\n",
    "df.dtypes"
   ]
  },
  {
   "cell_type": "markdown",
   "id": "5946dbc6",
   "metadata": {},
   "source": [
    "### Data Stats (unique, sum, count)"
   ]
  },
  {
   "cell_type": "code",
   "execution_count": 23,
   "id": "efa4d517",
   "metadata": {},
   "outputs": [
    {
     "data": {
      "text/plain": [
       "array(['Clothing', 'Accessories', 'Components', 'Bikes', 'Unknown'],\n",
       "      dtype=object)"
      ]
     },
     "execution_count": 23,
     "metadata": {},
     "output_type": "execute_result"
    }
   ],
   "source": [
    "# Get distinct values of column\n",
    "df.Category.unique()\n",
    "# df['Category'].unique()"
   ]
  },
  {
   "cell_type": "code",
   "execution_count": 24,
   "id": "5a42a6e9",
   "metadata": {
    "scrolled": true
   },
   "outputs": [
    {
     "data": {
      "text/plain": [
       "80487704.17918801"
      ]
     },
     "execution_count": 24,
     "metadata": {},
     "output_type": "execute_result"
    }
   ],
   "source": [
    "# Get total for a numeric column\n",
    "df.Sales.sum()"
   ]
  },
  {
   "cell_type": "code",
   "execution_count": 25,
   "id": "3cc87bbd",
   "metadata": {},
   "outputs": [
    {
     "data": {
      "text/plain": [
       "60880"
      ]
     },
     "execution_count": 25,
     "metadata": {},
     "output_type": "execute_result"
    }
   ],
   "source": [
    "# Get total count -- same as number of rows\n",
    "df.Quantity.count() "
   ]
  }
 ],
 "metadata": {
  "kernelspec": {
   "display_name": "Python 3 (ipykernel)",
   "language": "python",
   "name": "python3"
  },
  "language_info": {
   "codemirror_mode": {
    "name": "ipython",
    "version": 3
   },
   "file_extension": ".py",
   "mimetype": "text/x-python",
   "name": "python",
   "nbconvert_exporter": "python",
   "pygments_lexer": "ipython3",
   "version": "3.10.4"
  }
 },
 "nbformat": 4,
 "nbformat_minor": 5
}
